{
 "cells": [
  {
   "cell_type": "code",
   "execution_count": 9,
   "metadata": {},
   "outputs": [],
   "source": [
    "import os\n",
    "from pathlib import Path\n",
    "\n",
    "\n",
    "# Define the directory path\n",
    "folder_path1 = \"Dataset 5\\\\\"\n",
    "# Get list of filenames\n",
    "filenames = os.listdir(folder_path1)\n",
    "# Print filenames\n",
    "f_count = 1\n",
    "for filename in filenames:    \n",
    "\n",
    "    old_file_path = Path(folder_path1 +str(filename))\n",
    "    new_file_path = Path(folder_path1 +\"s\"+str(f_count))\n",
    "    f_count += 1\n",
    "\n",
    "\n",
    "    # Define paths as Path objects\n",
    "    folder_path2 = folder_path1 + str(filename) +\"\\\\\"\n",
    "    names = os.listdir(folder_path2)\n",
    "    i_count = 1\n",
    "    for name in names:\n",
    "        old_img_path = Path(folder_path2  + str(name))\n",
    "        new_img_path = Path(folder_path2+   str(i_count)+'.jpg')\n",
    "        old_img_path.rename(new_img_path)\n",
    "        i_count += 1\n",
    "\n",
    "    old_file_path.rename(new_file_path)\n",
    "    "
   ]
  },
  {
   "cell_type": "code",
   "execution_count": null,
   "metadata": {},
   "outputs": [],
   "source": []
  }
 ],
 "metadata": {
  "kernelspec": {
   "display_name": "Python 3",
   "language": "python",
   "name": "python3"
  },
  "language_info": {
   "codemirror_mode": {
    "name": "ipython",
    "version": 3
   },
   "file_extension": ".py",
   "mimetype": "text/x-python",
   "name": "python",
   "nbconvert_exporter": "python",
   "pygments_lexer": "ipython3",
   "version": "3.10.6"
  }
 },
 "nbformat": 4,
 "nbformat_minor": 2
}

{
 "cells": [
  {
   "cell_type": "markdown",
   "id": "3271f52e",
   "metadata": {},
   "source": [
    "Name: Lê Hoàng Anh Đức\n",
    "ID: 11219268\n",
    "Class: DSEB 63"
   ]
  },
  {
   "cell_type": "code",
   "execution_count": 1,
   "id": "d51bcab0",
   "metadata": {},
   "outputs": [],
   "source": [
    "import numpy as np\n",
    "import pandas as pd\n",
    "from numpy import mean\n",
    "from numpy import std\n",
    "from pandas import read_csv\n",
    "from sklearn.model_selection import cross_val_score\n",
    "from sklearn.model_selection import RepeatedStratifiedKFold\n",
    "from sklearn.neighbors import KNeighborsClassifier\n",
    "from sklearn.preprocessing import RobustScaler\n",
    "from sklearn.preprocessing import LabelEncoder\n",
    "from sklearn.pipeline import Pipeline\n",
    "from matplotlib import pyplot\n",
    "import matplotlib.pyplot as plt\n",
    "import seaborn as sns"
   ]
  },
  {
   "cell_type": "code",
   "execution_count": 2,
   "id": "b8a45335",
   "metadata": {},
   "outputs": [],
   "source": [
    "# Warning Removal\n",
    "import warnings\n",
    "def ignore_warn(*args, **kwargs):\n",
    "    pass\n",
    "warnings.warn = ignore_warn #ignore annoying warning (from sklearn and seaborn)"
   ]
  },
  {
   "cell_type": "code",
   "execution_count": 3,
   "id": "380a7fa0",
   "metadata": {},
   "outputs": [],
   "source": [
    "from matplotlib import pyplot\n",
    "# load dataset\n",
    "dataset = pd.read_csv('D:\\\\Năm 3 - HK1\\\\Visualize\\Ex\\\\pima-indians-diabetes.csv', header=None)"
   ]
  },
  {
   "cell_type": "code",
   "execution_count": 4,
   "id": "1269d60c",
   "metadata": {},
   "outputs": [
    {
     "data": {
      "text/html": [
       "<div>\n",
       "<style scoped>\n",
       "    .dataframe tbody tr th:only-of-type {\n",
       "        vertical-align: middle;\n",
       "    }\n",
       "\n",
       "    .dataframe tbody tr th {\n",
       "        vertical-align: top;\n",
       "    }\n",
       "\n",
       "    .dataframe thead th {\n",
       "        text-align: right;\n",
       "    }\n",
       "</style>\n",
       "<table border=\"1\" class=\"dataframe\">\n",
       "  <thead>\n",
       "    <tr style=\"text-align: right;\">\n",
       "      <th></th>\n",
       "      <th>0</th>\n",
       "      <th>1</th>\n",
       "      <th>2</th>\n",
       "      <th>3</th>\n",
       "      <th>4</th>\n",
       "      <th>5</th>\n",
       "      <th>6</th>\n",
       "      <th>7</th>\n",
       "      <th>8</th>\n",
       "    </tr>\n",
       "  </thead>\n",
       "  <tbody>\n",
       "    <tr>\n",
       "      <th>0</th>\n",
       "      <td>6</td>\n",
       "      <td>148</td>\n",
       "      <td>72</td>\n",
       "      <td>35</td>\n",
       "      <td>0</td>\n",
       "      <td>33.6</td>\n",
       "      <td>0.627</td>\n",
       "      <td>50</td>\n",
       "      <td>1</td>\n",
       "    </tr>\n",
       "    <tr>\n",
       "      <th>1</th>\n",
       "      <td>1</td>\n",
       "      <td>85</td>\n",
       "      <td>66</td>\n",
       "      <td>29</td>\n",
       "      <td>0</td>\n",
       "      <td>26.6</td>\n",
       "      <td>0.351</td>\n",
       "      <td>31</td>\n",
       "      <td>0</td>\n",
       "    </tr>\n",
       "    <tr>\n",
       "      <th>2</th>\n",
       "      <td>8</td>\n",
       "      <td>183</td>\n",
       "      <td>64</td>\n",
       "      <td>0</td>\n",
       "      <td>0</td>\n",
       "      <td>23.3</td>\n",
       "      <td>0.672</td>\n",
       "      <td>32</td>\n",
       "      <td>1</td>\n",
       "    </tr>\n",
       "    <tr>\n",
       "      <th>3</th>\n",
       "      <td>1</td>\n",
       "      <td>89</td>\n",
       "      <td>66</td>\n",
       "      <td>23</td>\n",
       "      <td>94</td>\n",
       "      <td>28.1</td>\n",
       "      <td>0.167</td>\n",
       "      <td>21</td>\n",
       "      <td>0</td>\n",
       "    </tr>\n",
       "    <tr>\n",
       "      <th>4</th>\n",
       "      <td>0</td>\n",
       "      <td>137</td>\n",
       "      <td>40</td>\n",
       "      <td>35</td>\n",
       "      <td>168</td>\n",
       "      <td>43.1</td>\n",
       "      <td>2.288</td>\n",
       "      <td>33</td>\n",
       "      <td>1</td>\n",
       "    </tr>\n",
       "    <tr>\n",
       "      <th>...</th>\n",
       "      <td>...</td>\n",
       "      <td>...</td>\n",
       "      <td>...</td>\n",
       "      <td>...</td>\n",
       "      <td>...</td>\n",
       "      <td>...</td>\n",
       "      <td>...</td>\n",
       "      <td>...</td>\n",
       "      <td>...</td>\n",
       "    </tr>\n",
       "    <tr>\n",
       "      <th>763</th>\n",
       "      <td>10</td>\n",
       "      <td>101</td>\n",
       "      <td>76</td>\n",
       "      <td>48</td>\n",
       "      <td>180</td>\n",
       "      <td>32.9</td>\n",
       "      <td>0.171</td>\n",
       "      <td>63</td>\n",
       "      <td>0</td>\n",
       "    </tr>\n",
       "    <tr>\n",
       "      <th>764</th>\n",
       "      <td>2</td>\n",
       "      <td>122</td>\n",
       "      <td>70</td>\n",
       "      <td>27</td>\n",
       "      <td>0</td>\n",
       "      <td>36.8</td>\n",
       "      <td>0.340</td>\n",
       "      <td>27</td>\n",
       "      <td>0</td>\n",
       "    </tr>\n",
       "    <tr>\n",
       "      <th>765</th>\n",
       "      <td>5</td>\n",
       "      <td>121</td>\n",
       "      <td>72</td>\n",
       "      <td>23</td>\n",
       "      <td>112</td>\n",
       "      <td>26.2</td>\n",
       "      <td>0.245</td>\n",
       "      <td>30</td>\n",
       "      <td>0</td>\n",
       "    </tr>\n",
       "    <tr>\n",
       "      <th>766</th>\n",
       "      <td>1</td>\n",
       "      <td>126</td>\n",
       "      <td>60</td>\n",
       "      <td>0</td>\n",
       "      <td>0</td>\n",
       "      <td>30.1</td>\n",
       "      <td>0.349</td>\n",
       "      <td>47</td>\n",
       "      <td>1</td>\n",
       "    </tr>\n",
       "    <tr>\n",
       "      <th>767</th>\n",
       "      <td>1</td>\n",
       "      <td>93</td>\n",
       "      <td>70</td>\n",
       "      <td>31</td>\n",
       "      <td>0</td>\n",
       "      <td>30.4</td>\n",
       "      <td>0.315</td>\n",
       "      <td>23</td>\n",
       "      <td>0</td>\n",
       "    </tr>\n",
       "  </tbody>\n",
       "</table>\n",
       "<p>768 rows × 9 columns</p>\n",
       "</div>"
      ],
      "text/plain": [
       "      0    1   2   3    4     5      6   7  8\n",
       "0     6  148  72  35    0  33.6  0.627  50  1\n",
       "1     1   85  66  29    0  26.6  0.351  31  0\n",
       "2     8  183  64   0    0  23.3  0.672  32  1\n",
       "3     1   89  66  23   94  28.1  0.167  21  0\n",
       "4     0  137  40  35  168  43.1  2.288  33  1\n",
       "..   ..  ...  ..  ..  ...   ...    ...  .. ..\n",
       "763  10  101  76  48  180  32.9  0.171  63  0\n",
       "764   2  122  70  27    0  36.8  0.340  27  0\n",
       "765   5  121  72  23  112  26.2  0.245  30  0\n",
       "766   1  126  60   0    0  30.1  0.349  47  1\n",
       "767   1   93  70  31    0  30.4  0.315  23  0\n",
       "\n",
       "[768 rows x 9 columns]"
      ]
     },
     "execution_count": 4,
     "metadata": {},
     "output_type": "execute_result"
    }
   ],
   "source": [
    "dataset"
   ]
  },
  {
   "cell_type": "code",
   "execution_count": 5,
   "id": "ef306e38",
   "metadata": {},
   "outputs": [
    {
     "data": {
      "text/plain": [
       "Int64Index([0, 1, 2, 3, 4, 5, 6, 7, 8], dtype='int64')"
      ]
     },
     "execution_count": 5,
     "metadata": {},
     "output_type": "execute_result"
    }
   ],
   "source": [
    "dataset.columns"
   ]
  },
  {
   "cell_type": "code",
   "execution_count": 6,
   "id": "1708d169",
   "metadata": {},
   "outputs": [
    {
     "data": {
      "text/plain": [
       "array([1, 0], dtype=int64)"
      ]
     },
     "execution_count": 6,
     "metadata": {},
     "output_type": "execute_result"
    }
   ],
   "source": [
    "dataset[8].unique()"
   ]
  },
  {
   "cell_type": "code",
   "execution_count": 7,
   "id": "d5317fb2",
   "metadata": {},
   "outputs": [],
   "source": [
    "# explore the scaling range of the robust scaler transform\n",
    "\n",
    "def evaluate_model(model, X, y):\n",
    "    cv = RepeatedStratifiedKFold(n_splits=10, n_repeats=3, random_state=1) #make sure each part is differ in distribution\n",
    "    scores = cross_val_score(model, X, y, scoring='accuracy', cv=cv, n_jobs=-1)\n",
    "    return scores\n",
    "# define dataset\n",
    "X, y = dataset.iloc[:, :-1], dataset.iloc[:, -1]\n",
    "# get the models to evaluate\n",
    "model = KNeighborsClassifier()  \n",
    "# evaluate the model\n",
    "scores = evaluate_model(model, X, y)  #đánh giá mô hình dựa trên k-nearest nneighbor\n",
    "# tìm k mẫu gần nhất với mẫu cần dự đoán=> gán nhãn"
   ]
  },
  {
   "cell_type": "code",
   "execution_count": 8,
   "id": "49e758bc",
   "metadata": {},
   "outputs": [
    {
     "data": {
      "text/plain": [
       "array([0.75324675, 0.7012987 , 0.67532468, 0.76623377, 0.74025974,\n",
       "       0.80519481, 0.71428571, 0.7012987 , 0.72368421, 0.68421053,\n",
       "       0.64935065, 0.67532468, 0.68831169, 0.75324675, 0.7012987 ,\n",
       "       0.74025974, 0.64935065, 0.76623377, 0.75      , 0.73684211,\n",
       "       0.71428571, 0.64935065, 0.68831169, 0.7012987 , 0.75324675,\n",
       "       0.7012987 , 0.7012987 , 0.77922078, 0.76315789, 0.69736842])"
      ]
     },
     "execution_count": 8,
     "metadata": {},
     "output_type": "execute_result"
    }
   ],
   "source": [
    "scores"
   ]
  },
  {
   "cell_type": "code",
   "execution_count": 9,
   "id": "f9199d42",
   "metadata": {},
   "outputs": [
    {
     "data": {
      "text/plain": [
       "0.7174698108908635"
      ]
     },
     "execution_count": 9,
     "metadata": {},
     "output_type": "execute_result"
    }
   ],
   "source": [
    "mean(scores)"
   ]
  },
  {
   "cell_type": "code",
   "execution_count": 10,
   "id": "73da5898",
   "metadata": {},
   "outputs": [],
   "source": [
    "# có 4 pp cải thiện độ chính xác\n",
    "# Chuẩn hóa dữ liệu (Standardization/Normalization)\n",
    "# Khử nhiễu dữ liệu (outliner)\n",
    "# Tính toán các đặc trưng mới ? chưa học\n",
    "# Tái phân phối dữ liệu (oversampling/undersampling)"
   ]
  },
  {
   "cell_type": "code",
   "execution_count": 11,
   "id": "42bed654",
   "metadata": {},
   "outputs": [],
   "source": [
    "def visual_data(x):\n",
    "    fig, ax = plt.subplots(1,2,figsize=(12,5))\n",
    "    ax[0].hist(x)\n",
    "    sns.boxplot(x,ax=ax[1])\n",
    "    plt.tight_layout()\n",
    "    return fig.show()"
   ]
  },
  {
   "cell_type": "code",
   "execution_count": 12,
   "id": "7ca923d9",
   "metadata": {},
   "outputs": [
    {
     "data": {
      "text/plain": [
       "0.7335269993164731"
      ]
     },
     "execution_count": 12,
     "metadata": {},
     "output_type": "execute_result"
    }
   ],
   "source": [
    "#RobustScaler without filter outliner\n",
    "scaler = RobustScaler()\n",
    "newX = scaler.fit_transform(X)\n",
    "scores = evaluate_model(model, newX, y)\n",
    "mean(scores)"
   ]
  },
  {
   "cell_type": "code",
   "execution_count": 13,
   "id": "88301d69",
   "metadata": {},
   "outputs": [
    {
     "data": {
      "image/png": "[encoded data removed]",
      "text/plain": [
       "<Figure size 864x360 with 2 Axes>"
      ]
     },
     "metadata": {
      "needs_background": "light"
     },
     "output_type": "display_data"
    }
   ],
   "source": [
    "visual_data(X[1]) #standardization"
   ]
  },
  {
   "cell_type": "code",
   "execution_count": 14,
   "id": "0c640541",
   "metadata": {},
   "outputs": [],
   "source": [
    "new = dataset[dataset[1]>25]"
   ]
  },
  {
   "cell_type": "code",
   "execution_count": 15,
   "id": "f2d8b50a",
   "metadata": {},
   "outputs": [
    {
     "data": {
      "image/png": "[encoded data removed]",
      "text/plain": [
       "<Figure size 864x360 with 2 Axes>"
      ]
     },
     "metadata": {
      "needs_background": "light"
     },
     "output_type": "display_data"
    }
   ],
   "source": [
    "visual_data(X[2]) #standardizattion"
   ]
  },
  {
   "cell_type": "code",
   "execution_count": 16,
   "id": "1773740d",
   "metadata": {},
   "outputs": [],
   "source": [
    "new= new[(new[2]>30) & (new[2]<106)]"
   ]
  },
  {
   "cell_type": "code",
   "execution_count": 17,
   "id": "6dfb6dc4",
   "metadata": {},
   "outputs": [
    {
     "data": {
      "image/png": "[encoded data removed]",
      "text/plain": [
       "<Figure size 864x360 with 2 Axes>"
      ]
     },
     "metadata": {
      "needs_background": "light"
     },
     "output_type": "display_data"
    }
   ],
   "source": [
    "visual_data(X[5]) #standardization"
   ]
  },
  {
   "cell_type": "code",
   "execution_count": 18,
   "id": "b3abce84",
   "metadata": {},
   "outputs": [],
   "source": [
    "new= new[(new[5]>10) & (new[5]<51)]"
   ]
  },
  {
   "cell_type": "code",
   "execution_count": 19,
   "id": "522e589a",
   "metadata": {},
   "outputs": [
    {
     "data": {
      "image/png": "[encoded data removed]",
      "text/plain": [
       "<Figure size 864x360 with 2 Axes>"
      ]
     },
     "metadata": {
      "needs_background": "light"
     },
     "output_type": "display_data"
    }
   ],
   "source": [
    "visual_data(X[0])"
   ]
  },
  {
   "cell_type": "code",
   "execution_count": 20,
   "id": "cd2f99d2",
   "metadata": {},
   "outputs": [],
   "source": [
    "new= new[new[0]<14]"
   ]
  },
  {
   "cell_type": "code",
   "execution_count": 21,
   "id": "fcf4ee45",
   "metadata": {
    "scrolled": true
   },
   "outputs": [
    {
     "data": {
      "image/png": "[encoded data removed]",
      "text/plain": [
       "<Figure size 864x360 with 2 Axes>"
      ]
     },
     "metadata": {
      "needs_background": "light"
     },
     "output_type": "display_data"
    }
   ],
   "source": [
    "visual_data(X[3]) #normalization"
   ]
  },
  {
   "cell_type": "code",
   "execution_count": 22,
   "id": "2bf97301",
   "metadata": {},
   "outputs": [],
   "source": [
    "new= new[new[3]<70]"
   ]
  },
  {
   "cell_type": "code",
   "execution_count": 23,
   "id": "c083c663",
   "metadata": {},
   "outputs": [
    {
     "data": {
      "image/png": "[encoded data removed]",
      "text/plain": [
       "<Figure size 864x360 with 2 Axes>"
      ]
     },
     "metadata": {
      "needs_background": "light"
     },
     "output_type": "display_data"
    }
   ],
   "source": [
    "visual_data(X[4]) #normalization"
   ]
  },
  {
   "cell_type": "code",
   "execution_count": 24,
   "id": "ae5d828c",
   "metadata": {},
   "outputs": [],
   "source": [
    "new= new[new[4]<320]"
   ]
  },
  {
   "cell_type": "code",
   "execution_count": 25,
   "id": "124fe5c2",
   "metadata": {},
   "outputs": [
    {
     "data": {
      "image/png": "[encoded data removed]",
      "text/plain": [
       "<Figure size 864x360 with 2 Axes>"
      ]
     },
     "metadata": {
      "needs_background": "light"
     },
     "output_type": "display_data"
    }
   ],
   "source": [
    "visual_data(X[6]) #normalization"
   ]
  },
  {
   "cell_type": "code",
   "execution_count": 26,
   "id": "59f26326",
   "metadata": {},
   "outputs": [],
   "source": [
    "new= new[new[6]<1.2]"
   ]
  },
  {
   "cell_type": "code",
   "execution_count": 27,
   "id": "a4a71eeb",
   "metadata": {},
   "outputs": [
    {
     "data": {
      "image/png": "[encoded data removed]",
      "text/plain": [
       "<Figure size 864x360 with 2 Axes>"
      ]
     },
     "metadata": {
      "needs_background": "light"
     },
     "output_type": "display_data"
    }
   ],
   "source": [
    "visual_data(X[7]) #normalization"
   ]
  },
  {
   "cell_type": "code",
   "execution_count": 28,
   "id": "6b683486",
   "metadata": {},
   "outputs": [],
   "source": [
    "new= new[new[7]<67]"
   ]
  },
  {
   "cell_type": "code",
   "execution_count": 29,
   "id": "4cfeddf8",
   "metadata": {},
   "outputs": [
    {
     "name": "stdout",
     "output_type": "stream",
     "text": [
      "0.7373925264550266\n"
     ]
    }
   ],
   "source": [
    "# Evaluate without scaling after filter outliner\n",
    "X, y = new.iloc[:, :-1], new.iloc[:, -1]\n",
    "scores = evaluate_model(model, X, y)\n",
    "print(mean(scores))"
   ]
  },
  {
   "cell_type": "code",
   "execution_count": 30,
   "id": "b3a41ae7",
   "metadata": {},
   "outputs": [
    {
     "data": {
      "text/plain": [
       "0.753116732804233"
      ]
     },
     "execution_count": 30,
     "metadata": {},
     "output_type": "execute_result"
    }
   ],
   "source": [
    "# Robust scaling after drop outliner\n",
    "newX = scaler.fit_transform(X)\n",
    "scores = evaluate_model(model, newX, y)\n",
    "mean(scores)"
   ]
  },
  {
   "cell_type": "code",
   "execution_count": 31,
   "id": "c63294dc",
   "metadata": {},
   "outputs": [],
   "source": [
    "#Combine Standardize and Normalize\n",
    "\n",
    "# Standardize colums 1, 2, 5\n",
    "from sklearn.preprocessing import StandardScaler\n",
    "scaler = StandardScaler()\n",
    "\n",
    "X[1]=scaler.fit_transform(np.array(X[1]).reshape(-1,1))\n",
    "X[2]=scaler.fit_transform(np.array(X[2]).reshape(-1,1))\n",
    "X[5]=scaler.fit_transform(np.array(X[5]).reshape(-1,1))\n",
    "\n",
    "# Normalize columns 0, 3, 4, 6, 7\n",
    "from sklearn.preprocessing import MinMaxScaler\n",
    "scaler= MinMaxScaler()\n",
    "\n",
    "X[0]=scaler.fit_transform(np.array(X[0]).reshape(-1,1))\n",
    "X[3]=scaler.fit_transform(np.array(X[3]).reshape(-1,1))\n",
    "X[4]=scaler.fit_transform(np.array(X[4]).reshape(-1,1))\n",
    "X[6]=scaler.fit_transform(np.array(X[6]).reshape(-1,1))\n",
    "X[7]=scaler.fit_transform(np.array(X[7]).reshape(-1,1))"
   ]
  },
  {
   "cell_type": "code",
   "execution_count": 32,
   "id": "ee978e95",
   "metadata": {},
   "outputs": [
    {
     "data": {
      "text/plain": [
       "0.7452546296296297"
      ]
     },
     "execution_count": 32,
     "metadata": {},
     "output_type": "execute_result"
    }
   ],
   "source": [
    "scores = evaluate_model(model, X, y)\n",
    "mean(scores)"
   ]
  },
  {
   "cell_type": "code",
   "execution_count": 33,
   "id": "7a13a435",
   "metadata": {},
   "outputs": [
    {
     "name": "stdout",
     "output_type": "stream",
     "text": [
      "0.7426835317460319\n"
     ]
    }
   ],
   "source": [
    "# Normalize after drop outliner\n",
    "X, y = new.iloc[:, :-1], new.iloc[:, -1]\n",
    "newX = scaler.fit_transform(X)\n",
    "scores = evaluate_model(model, newX, y)\n",
    "print(mean(scores))"
   ]
  },
  {
   "cell_type": "code",
   "execution_count": 34,
   "id": "85516872",
   "metadata": {},
   "outputs": [
    {
     "name": "stdout",
     "output_type": "stream",
     "text": [
      "0.7494791666666668\n"
     ]
    }
   ],
   "source": [
    "#Standarđize after drop outliner\n",
    "scaler = StandardScaler()\n",
    "X, y = new.iloc[:, :-1], new.iloc[:, -1]\n",
    "newX = scaler.fit_transform(X)\n",
    "scores = evaluate_model(model, newX, y)\n",
    "print(mean(scores))"
   ]
  },
  {
   "cell_type": "markdown",
   "id": "14a41b6a",
   "metadata": {},
   "source": [
    "The best solution is using RobustScaling after drop all outliner (75,31%)"
   ]
  },
  {
   "cell_type": "code",
   "execution_count": 35,
   "id": "8eb5b1ad",
   "metadata": {},
   "outputs": [],
   "source": [
    "scaler = RobustScaler()\n",
    "new.iloc[:, :-1] = scaler.fit_transform(new.iloc[:, :-1])\n",
    "new.to_pickle('D:\\\\Năm 3 - HK1\\\\Visualize\\Ex\\\\LêHoàngAnhĐức_111219268_scaler.pkl')"
   ]
  },
  {
   "cell_type": "code",
   "execution_count": null,
   "id": "a810378c",
   "metadata": {},
   "outputs": [],
   "source": []
  }
 ],
 "metadata": {
  "kernelspec": {
   "display_name": "Python 3 (ipykernel)",
   "language": "python",
   "name": "python3"
  },
  "language_info": {
   "codemirror_mode": {
    "name": "ipython",
    "version": 3
   },
   "file_extension": ".py",
   "mimetype": "text/x-python",
   "name": "python",
   "nbconvert_exporter": "python",
   "pygments_lexer": "ipython3",
   "version": "3.9.12"
  },
  "nteract": {
   "version": "nteract-front-end@1.0.0"
  }
 },
 "nbformat": 4,
 "nbformat_minor": 5
}
